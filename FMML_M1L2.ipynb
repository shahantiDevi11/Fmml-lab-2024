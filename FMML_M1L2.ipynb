{
  "cells": [
    {
      "cell_type": "markdown",
      "metadata": {
        "id": "view-in-github",
        "colab_type": "text"
      },
      "source": [
        "<a href=\"https://colab.research.google.com/github/shahantiDevi11/Fmml-lab-2024/blob/main/FMML_M1L2.ipynb\" target=\"_parent\"><img src=\"https://colab.research.google.com/assets/colab-badge.svg\" alt=\"Open In Colab\"/></a>"
      ]
    },
    {
      "cell_type": "markdown",
      "metadata": {
        "id": "3Eu9VZbF01eq"
      },
      "source": [
        "# Machine Learning terms and metrics\n",
        "\n",
        "FMML Module 1, Lab 2\n",
        "\n",
        "In this lab, we will show a part of the ML pipeline by using the California Housing dataset. There are 20640 samples, each with 8 attributes like income of the block, age of the houses per district etc. The task is to predict the cost of the houses per district. We will use the scikit-learn library to load the data and perform some basic data preprocessing and model training. We will also show how to evaluate the model using some common metrics, split the data into training and testing sets, and use cross-validation to get a better estimate of the model's performance."
      ]
    },
    {
      "cell_type": "code",
      "execution_count": null,
      "metadata": {
        "id": "8qBvyEem0vLi"
      },
      "outputs": [],
      "source": [
        "import numpy as np\n",
        "from sklearn import datasets\n",
        "import matplotlib.pyplot as plt\n",
        "\n",
        "rng = np.random.default_rng(seed=42)"
      ]
    },
    {
      "cell_type": "code",
      "execution_count": null,
      "metadata": {
        "colab": {
          "base_uri": "https://localhost:8080/"
        },
        "id": "8LpqjN991GGJ",
        "outputId": "6f379d6f-dc2c-427a-93f7-587d7b909a5a"
      },
      "outputs": [
        {
          "output_type": "stream",
          "name": "stdout",
          "text": [
            ".. _california_housing_dataset:\n",
            "\n",
            "California Housing dataset\n",
            "--------------------------\n",
            "\n",
            "**Data Set Characteristics:**\n",
            "\n",
            "    :Number of Instances: 20640\n",
            "\n",
            "    :Number of Attributes: 8 numeric, predictive attributes and the target\n",
            "\n",
            "    :Attribute Information:\n",
            "        - MedInc        median income in block group\n",
            "        - HouseAge      median house age in block group\n",
            "        - AveRooms      average number of rooms per household\n",
            "        - AveBedrms     average number of bedrooms per household\n",
            "        - Population    block group population\n",
            "        - AveOccup      average number of household members\n",
            "        - Latitude      block group latitude\n",
            "        - Longitude     block group longitude\n",
            "\n",
            "    :Missing Attribute Values: None\n",
            "\n",
            "This dataset was obtained from the StatLib repository.\n",
            "https://www.dcc.fc.up.pt/~ltorgo/Regression/cal_housing.html\n",
            "\n",
            "The target variable is the median house value for California districts,\n",
            "expressed in hundreds of thousands of dollars ($100,000).\n",
            "\n",
            "This dataset was derived from the 1990 U.S. census, using one row per census\n",
            "block group. A block group is the smallest geographical unit for which the U.S.\n",
            "Census Bureau publishes sample data (a block group typically has a population\n",
            "of 600 to 3,000 people).\n",
            "\n",
            "A household is a group of people residing within a home. Since the average\n",
            "number of rooms and bedrooms in this dataset are provided per household, these\n",
            "columns may take surprisingly large values for block groups with few households\n",
            "and many empty houses, such as vacation resorts.\n",
            "\n",
            "It can be downloaded/loaded using the\n",
            ":func:`sklearn.datasets.fetch_california_housing` function.\n",
            "\n",
            ".. topic:: References\n",
            "\n",
            "    - Pace, R. Kelley and Ronald Barry, Sparse Spatial Autoregressions,\n",
            "      Statistics and Probability Letters, 33 (1997) 291-297\n",
            "\n"
          ]
        }
      ],
      "source": [
        "dataset = datasets.fetch_california_housing()\n",
        "# Dataset description\n",
        "print(dataset.DESCR)"
      ]
    },
    {
      "cell_type": "markdown",
      "metadata": {
        "id": "PCe1VNftevgE"
      },
      "source": [
        "Given below are the list of target values. These correspond to the house value derived considering all the 8 input features and are continuous values. We should use regression models to predict these values but we will start with a simple classification model for the sake of simplicity. We need to just round off the values to the nearest integer and use a classification model to predict the house value."
      ]
    },
    {
      "cell_type": "code",
      "execution_count": null,
      "metadata": {
        "colab": {
          "base_uri": "https://localhost:8080/"
        },
        "id": "F8K0ggBOevgE",
        "outputId": "f71dd070-d8a0-41e1-b595-107fec9f47e8"
      },
      "outputs": [
        {
          "output_type": "stream",
          "name": "stdout",
          "text": [
            "Orignal target values: [4.526 3.585 3.521 ... 0.923 0.847 0.894]\n",
            "Target values after conversion: [4 3 3 ... 0 0 0]\n",
            "Input variables shape: (20640, 8)\n",
            "Output variables shape: (20640,)\n"
          ]
        }
      ],
      "source": [
        "print(\"Orignal target values:\", dataset.target)\n",
        "\n",
        "dataset.target = dataset.target.astype(int)\n",
        "\n",
        "print(\"Target values after conversion:\", dataset.target)\n",
        "print(\"Input variables shape:\", dataset.data.shape)\n",
        "print(\"Output variables shape:\", dataset.target.shape)"
      ]
    },
    {
      "cell_type": "markdown",
      "metadata": {
        "id": "iNx4174W5xRg"
      },
      "source": [
        "The simplest model to use for classification is the K-Nearest Neighbors model. We will use this model to predict the house value with a K value of 1. We will also use the accuracy metric to evaluate the model."
      ]
    },
    {
      "cell_type": "code",
      "execution_count": null,
      "metadata": {
        "id": "07zpydQj1hIQ"
      },
      "outputs": [],
      "source": [
        "def NN1(traindata, trainlabel, query):\n",
        "    \"\"\"\n",
        "    This function takes in the training data, training labels and a query point\n",
        "    and returns the predicted label for the query point using the nearest neighbour algorithm\n",
        "\n",
        "    traindata: numpy array of shape (n,d) where n is the number of samples and d is the number of features\n",
        "    trainlabel: numpy array of shape (n,) where n is the number of samples\n",
        "    query: numpy array of shape (d,) where d is the number of features\n",
        "\n",
        "    returns: the predicted label for the query point which is the label of the training data which is closest to the query point\n",
        "    \"\"\"\n",
        "    diff = (\n",
        "        traindata - query\n",
        "    )  # find the difference between features. Numpy automatically takes care of the size here\n",
        "    sq = diff * diff  # square the differences\n",
        "    dist = sq.sum(1)  # add up the squares\n",
        "    label = trainlabel[np.argmin(dist)]\n",
        "    return label\n",
        "\n",
        "\n",
        "def NN(traindata, trainlabel, testdata):\n",
        "    \"\"\"\n",
        "    This function takes in the training data, training labels and test data\n",
        "    and returns the predicted labels for the test data using the nearest neighbour algorithm\n",
        "\n",
        "    traindata: numpy array of shape (n,d) where n is the number of samples and d is the number of features\n",
        "    trainlabel: numpy array of shape (n,) where n is the number of samples\n",
        "    testdata: numpy array of shape (m,d) where m is the number of test samples and d is the number of features\n",
        "\n",
        "    returns: the predicted labels for the test data which is the label of the training data which is closest to each test point\n",
        "    \"\"\"\n",
        "    predlabel = np.array([NN1(traindata, trainlabel, i) for i in testdata])\n",
        "    return predlabel"
      ]
    },
    {
      "cell_type": "markdown",
      "metadata": {
        "id": "03JktkfIGaje"
      },
      "source": [
        "We will also define a 'random classifier', which randomly allots labels to each sample"
      ]
    },
    {
      "cell_type": "code",
      "execution_count": null,
      "metadata": {
        "id": "fogWAtjyGhAH"
      },
      "outputs": [],
      "source": [
        "def RandomClassifier(traindata, trainlabel, testdata):\n",
        "    \"\"\"\n",
        "    This function takes in the training data, training labels and test data\n",
        "    and returns the predicted labels for the test data using the random classifier algorithm\n",
        "\n",
        "    In reality, we don't need these arguments but we are passing them to keep the function signature consistent with other classifiers\n",
        "\n",
        "    traindata: numpy array of shape (n,d) where n is the number of samples and d is the number of features\n",
        "    trainlabel: numpy array of shape (n,) where n is the number of samples\n",
        "    testdata: numpy array of shape (m,d) where m is the number of test samples and d is the number of features\n",
        "\n",
        "    returns: the predicted labels for the test data which is a random label from the training data\n",
        "    \"\"\"\n",
        "\n",
        "    classes = np.unique(trainlabel)\n",
        "    rints = rng.integers(low=0, high=len(classes), size=len(testdata))\n",
        "    predlabel = classes[rints]\n",
        "    return predlabel"
      ]
    },
    {
      "cell_type": "markdown",
      "metadata": {
        "id": "1Hjf1KHs7fU5"
      },
      "source": [
        "We need a metric to evaluate the performance of the model. Let us define a metric 'Accuracy' to see how good our learning algorithm is. Accuracy is the ratio of the number of correctly classified samples to the total number of samples. The higher the accuracy, the better the algorithm. We will use the accuracy metric to evaluate and compate the performance of the K-Nearest Neighbors model and the random classifier."
      ]
    },
    {
      "cell_type": "code",
      "execution_count": null,
      "metadata": {
        "id": "ouuCqWU07bz-"
      },
      "outputs": [],
      "source": [
        "def Accuracy(gtlabel, predlabel):\n",
        "    \"\"\"\n",
        "    This function takes in the ground-truth labels and predicted labels\n",
        "    and returns the accuracy of the classifier\n",
        "\n",
        "    gtlabel: numpy array of shape (n,) where n is the number of samples\n",
        "    predlabel: numpy array of shape (n,) where n is the number of samples\n",
        "\n",
        "    returns: the accuracy of the classifier which is the number of correct predictions divided by the total number of predictions\n",
        "    \"\"\"\n",
        "    assert len(gtlabel) == len(\n",
        "        predlabel\n",
        "    ), \"Length of the ground-truth labels and predicted labels should be the same\"\n",
        "    correct = (\n",
        "        gtlabel == predlabel\n",
        "    ).sum()  # count the number of times the groundtruth label is equal to the predicted label.\n",
        "    return correct / len(gtlabel)"
      ]
    },
    {
      "cell_type": "markdown",
      "metadata": {
        "id": "4vJFwBFa9Klw"
      },
      "source": [
        "Let us make a function to split the dataset with the desired probability. We will use this function to split the dataset into training and testing sets. We will use the training set to train the model and the testing set to evaluate the model."
      ]
    },
    {
      "cell_type": "code",
      "execution_count": null,
      "metadata": {
        "id": "Ko0VzpSM2Tdi"
      },
      "outputs": [],
      "source": [
        "def split(data, label, percent):\n",
        "    # generate a random number for each sample\n",
        "    rnd = rng.random(len(label))\n",
        "    split1 = rnd < percent\n",
        "    split2 = rnd >= percent\n",
        "\n",
        "    split1data = data[split1, :]\n",
        "    split1label = label[split1]\n",
        "    split2data = data[split2, :]\n",
        "    split2label = label[split2]\n",
        "    return split1data, split1label, split2data, split2label"
      ]
    },
    {
      "cell_type": "markdown",
      "metadata": {
        "id": "AcK3LEAJ_LGC"
      },
      "source": [
        "We will reserve 20% of our dataset as the test set. We will not change this portion throughout our experiments"
      ]
    },
    {
      "cell_type": "code",
      "execution_count": null,
      "metadata": {
        "colab": {
          "base_uri": "https://localhost:8080/"
        },
        "id": "bBZkHBLJ1iU-",
        "outputId": "73ffc0bd-354d-4051-f17a-c6adebdd58fe"
      },
      "outputs": [
        {
          "output_type": "stream",
          "name": "stdout",
          "text": [
            "Number of test samples: 4144\n",
            "Number of train samples: 16496\n",
            "Percent of test data: 20.07751937984496 %\n"
          ]
        }
      ],
      "source": [
        "testdata, testlabel, alltraindata, alltrainlabel = split(\n",
        "    dataset.data, dataset.target, 20 / 100\n",
        ")\n",
        "print(\"Number of test samples:\", len(testlabel))\n",
        "print(\"Number of train samples:\", len(alltrainlabel))\n",
        "print(\"Percent of test data:\", len(testlabel) * 100 / len(dataset.target), \"%\")"
      ]
    },
    {
      "cell_type": "markdown",
      "metadata": {
        "id": "a6Ss0Z6IAGNV"
      },
      "source": [
        "## Experiments with splits\n",
        "\n",
        "Let us reserve some of our train data as a validation set"
      ]
    },
    {
      "cell_type": "code",
      "execution_count": null,
      "metadata": {
        "id": "WFew2iry_7W7"
      },
      "outputs": [],
      "source": [
        "traindata, trainlabel, valdata, vallabel = split(\n",
        "    alltraindata, alltrainlabel, 75 / 100)"
      ]
    },
    {
      "cell_type": "markdown",
      "metadata": {
        "id": "60hiu4clFN1i"
      },
      "source": [
        "What is the accuracy of our classifiers on the train dataset?"
      ]
    },
    {
      "cell_type": "code",
      "execution_count": null,
      "metadata": {
        "colab": {
          "base_uri": "https://localhost:8080/"
        },
        "id": "DBlZDTHUFTZx",
        "outputId": "2d0ed616-7ece-4d8f-8f8d-cb1eb48f7385"
      },
      "outputs": [
        {
          "output_type": "stream",
          "name": "stdout",
          "text": [
            "Training accuracy using nearest neighbour algorithm: 100.0 %\n",
            "Training accuracy using random classifier:  16.4375808538163 %\n"
          ]
        }
      ],
      "source": [
        "trainpred = NN(traindata, trainlabel, traindata)\n",
        "trainAccuracy = Accuracy(trainlabel, trainpred)\n",
        "print(\"Training accuracy using nearest neighbour algorithm:\", trainAccuracy*100, \"%\")\n",
        "\n",
        "trainpred = RandomClassifier(traindata, trainlabel, traindata)\n",
        "trainAccuracy = Accuracy(trainlabel, trainpred)\n",
        "print(\"Training accuracy using random classifier: \", trainAccuracy*100, \"%\")"
      ]
    },
    {
      "cell_type": "markdown",
      "metadata": {
        "id": "7h08-9gJDtSy"
      },
      "source": [
        "For nearest neighbour, the train accuracy is always 1. The accuracy of the random classifier is close to 1/(number of classes) which is 0.1666 in our case. This is because the random classifier randomly assigns a label to each sample and the probability of assigning the correct label is 1/(number of classes). Let us predict the labels for our validation set and get the accuracy. This accuracy is a good estimate of the accuracy of our model on unseen data."
      ]
    },
    {
      "cell_type": "code",
      "execution_count": null,
      "metadata": {
        "colab": {
          "base_uri": "https://localhost:8080/"
        },
        "id": "4h7bXoW_2H3v",
        "outputId": "ab09a4be-1b0e-4db2-ef67-a4b5f41c48fe"
      },
      "outputs": [
        {
          "output_type": "stream",
          "name": "stdout",
          "text": [
            "Validation accuracy using nearest neighbour algorithm: 34.10852713178294 %\n",
            "Validation accuracy using random classifier: 16.884689922480618 %\n"
          ]
        }
      ],
      "source": [
        "valpred = NN(traindata, trainlabel, valdata)\n",
        "valAccuracy = Accuracy(vallabel, valpred)\n",
        "print(\"Validation accuracy using nearest neighbour algorithm:\", valAccuracy*100, \"%\")\n",
        "\n",
        "\n",
        "valpred = RandomClassifier(traindata, trainlabel, valdata)\n",
        "valAccuracy = Accuracy(vallabel, valpred)\n",
        "print(\"Validation accuracy using random classifier:\", valAccuracy*100, \"%\")"
      ]
    },
    {
      "cell_type": "markdown",
      "metadata": {
        "id": "py9bLguFEjfg"
      },
      "source": [
        "Validation accuracy of nearest neighbour is considerably less than its train accuracy while the validation accuracy of random classifier is the same. However, the validation accuracy of nearest neighbour is twice that of the random classifier. Now let us try another random split and check the validation accuracy. We will see that the validation accuracy changes with the split. This is because the validation set is small and the accuracy is highly dependent on the samples in the validation set. We can get a better estimate of the accuracy by using cross-validation."
      ]
    },
    {
      "cell_type": "code",
      "execution_count": null,
      "metadata": {
        "colab": {
          "base_uri": "https://localhost:8080/"
        },
        "id": "ujm3cyYzEntE",
        "outputId": "8e5506e9-474c-4fd6-d7a6-b14aa1b8b8d1"
      },
      "outputs": [
        {
          "output_type": "stream",
          "name": "stdout",
          "text": [
            "Validation accuracy using nearest neighbour algorithm: 34.048257372654156 %\n"
          ]
        }
      ],
      "source": [
        "traindata, trainlabel, valdata, vallabel = split(\n",
        "    alltraindata, alltrainlabel, 75 / 100)\n",
        "valpred = NN(traindata, trainlabel, valdata)\n",
        "valAccuracy = Accuracy(vallabel, valpred)\n",
        "print(\"Validation accuracy using nearest neighbour algorithm:\", valAccuracy*100, \"%\")"
      ]
    },
    {
      "cell_type": "markdown",
      "metadata": {
        "id": "oSOx7U83EKie"
      },
      "source": [
        "You can run the above cell multiple times to try with different random splits.\n",
        "We notice that the accuracy is different for each run, but close together.\n",
        "\n",
        "Now let us compare it with the accuracy we get on the test dataset."
      ]
    },
    {
      "cell_type": "code",
      "execution_count": null,
      "metadata": {
        "colab": {
          "base_uri": "https://localhost:8080/"
        },
        "id": "PNEZ5ToYBEDW",
        "outputId": "2487fee9-0efc-4ce9-8b76-c8fd90b0c94a"
      },
      "outputs": [
        {
          "output_type": "stream",
          "name": "stdout",
          "text": [
            "Test accuracy: 34.91795366795367 %\n"
          ]
        }
      ],
      "source": [
        "testpred = NN(alltraindata, alltrainlabel, testdata)\n",
        "testAccuracy = Accuracy(testlabel, testpred)\n",
        "\n",
        "print(\"Test accuracy:\", testAccuracy*100, \"%\")"
      ]
    },
    {
      "cell_type": "markdown",
      "metadata": {
        "id": "w3dGD531K3gH"
      },
      "source": [
        "### Try it out for yourself and answer:\n",
        "1. How is the accuracy of the validation set affected if we increase the percentage of validation set? What happens when we reduce it?\n",
        "2. How does the size of the train and validation set affect how well we can predict the accuracy on the test set using the validation set?\n",
        "3. What do you think is a good percentage to reserve for the validation set so that thest two factors are balanced?\n",
        "\n",
        "Answer for both nearest neighbour and random classifier. You can note down the values for your experiments and plot a graph using  <a href=https://matplotlib.org/stable/gallery/lines_bars_and_markers/step_demo.html#sphx-glr-gallery-lines-bars-and-markers-step-demo-py>plt.plot<href>. Check also for extreme values for splits, like 99.9% or 0.1%"
      ]
    },
    {
      "cell_type": "markdown",
      "source": [
        "Answer 1:\n",
        "          The accuracy of a validation set is influenced by how representative it is of the overall dataset. Here's how changes in the percentage of the validation set can affect accuracy:\n",
        "\n",
        "### **Increasing the Percentage of the Validation Set:**\n",
        "- **More Representative Sampling:** As you increase the size of the validation set, it is likely to become more representative of the entire dataset. This can lead to more accurate and reliable validation accuracy because the model is being evaluated on a more comprehensive sample of the data.\n",
        "- **Reduced Training Data:** However, increasing the validation set size reduces the amount of data available for training. This could potentially lead to underfitting, where the model may not learn as well due to insufficient training data, which might decrease the model's overall performance.\n",
        "\n",
        "### **Decreasing the Percentage of the Validation Set:**\n",
        "- **Less Representative Sampling:** A smaller validation set may be less representative of the entire dataset, leading to more variability in the accuracy metric. This could cause the validation accuracy to be less reliable, as it may not reflect the model's true performance on unseen data.\n",
        "- **Increased Training Data:** Reducing the size of the validation set allows more data to be used for training, which could improve the model's ability to learn, potentially resulting in better performance. However, the trade-off is the increased risk of overfitting, where the model might perform well on the training data but poorly on new, unseen data.\n",
        "\n",
        "### **Summary:**\n",
        "- **Increasing validation set size**: Typically leads to a more reliable accuracy metric but at the cost of having less training data.\n",
        "- **Decreasing validation set size**: Provides more data for training, which might improve learning, but the accuracy metric becomes less reliable and more susceptible to variance.\n",
        "\n",
        "The ideal balance depends on the size of the dataset and the complexity of the model. Generally, a common practice is to allocate 20-30% of the data to the validation set.\n",
        "\n",
        "Answer2:\n",
        "        The size of the training and validation sets plays a crucial role in how well we can predict the accuracy on the test set using the validation set. Here’s how each affects this prediction:\n",
        "\n",
        "### **Training Set Size:**\n",
        "- **Larger Training Set:**\n",
        "  - **Better Learning:** A larger training set allows the model to learn more effectively by capturing more patterns and variations in the data. This generally leads to a model that generalizes better to unseen data, making the validation accuracy a more reliable predictor of test set accuracy.\n",
        "  - **Reduced Overfitting:** With more data to train on, the model is less likely to overfit to specific patterns in the training data, further improving the alignment between validation and test set performance.\n",
        "\n",
        "- **Smaller Training Set:**\n",
        "  - **Limited Learning:** With less data to train on, the model may struggle to learn the underlying patterns, leading to underfitting. This can cause the validation accuracy to overestimate or underestimate the test set accuracy, making it a less reliable predictor.\n",
        "  - **Increased Overfitting Risk:** If the training data is too small, the model might overfit, meaning it performs well on the training set but poorly on unseen data, leading to a discrepancy between validation and test accuracy.\n",
        "\n",
        "### **Validation Set Size:**\n",
        "- **Larger Validation Set:**\n",
        "  - **More Reliable Estimate:** A larger validation set is more likely to be representative of the entire dataset, leading to a more accurate and reliable estimate of the model’s performance on the test set. It reduces the variance in the validation accuracy, making it a better predictor of test set accuracy.\n",
        "  - **Reduced Training Data:** However, increasing the validation set size reduces the amount of data available for training, which might negatively impact the model’s learning and generalization ability, potentially reducing the accuracy on both the validation and test sets.\n",
        "\n",
        "- **Smaller Validation Set:**\n",
        "  - **Less Reliable Estimate:** A smaller validation set may not be representative of the entire dataset, leading to a less reliable estimate of test set accuracy. The validation accuracy might fluctuate more, making it a poorer predictor of the model’s true performance.\n",
        "  - **Increased Training Data:** A smaller validation set allows more data to be used for training, which can improve the model’s learning and potentially lead to better generalization. However, the validation accuracy might not accurately reflect the test set performance due to the smaller, less representative sample.\n",
        "\n",
        "### **Balancing Training and Validation Set Sizes:**\n",
        "- **Finding the Right Balance:** The key is to find a balance between the training and validation set sizes. A commonly used split is around 80-20 or 70-30, depending on the dataset size. The goal is to have enough data to train the model effectively while also having a sufficiently large validation set to provide a reliable estimate of test set accuracy.\n",
        "\n",
        "### **Summary:**\n",
        "- **Larger training set + reasonable validation set size:** Typically leads to a model that generalizes well, with validation accuracy closely predicting test set accuracy.\n",
        "- **Smaller training set + smaller validation set:** Leads to less reliable predictions of test set accuracy, with increased risks of underfitting or overfitting.\n",
        "\n",
        "In general, ensuring a sufficiently large and representative validation set while maintaining enough training data is crucial for accurately predicting test set performance.\n",
        "\n",
        "Answer 3:\n",
        "         A commonly recommended percentage to reserve for the validation set is **20% of the total dataset**. This is often a good balance between having enough data to train the model effectively and having a sufficiently large and representative validation set to estimate the model's performance reliably.\n",
        "\n",
        "### Why 20% Is a Good Balance:\n",
        "- **Training Set Sufficiency:** With 80% of the data used for training, the model typically has enough information to learn the underlying patterns and generalize well. This is especially true for larger datasets.\n",
        "- **Validation Set Reliability:** A 20% validation set is generally large enough to be representative of the entire dataset, providing a reliable estimate of how the model will perform on unseen data (i.e., the test set).\n",
        "  \n",
        "### Considerations for Adjusting This Percentage:\n",
        "- **Smaller Datasets:** If your dataset is small, you might want to reduce the validation set size to 10-15% to ensure the model has enough data to train effectively. However, this comes at the cost of potentially less reliable validation accuracy.\n",
        "- **Larger Datasets:** For very large datasets, you might even go down to 10% for the validation set, as even a smaller percentage would still provide a large number of examples for validation.\n",
        "\n",
        "### Other Practices:\n",
        "- **Cross-Validation:** If your dataset is small or if you want to maximize the use of data, you can use **k-fold cross-validation** instead of setting aside a fixed validation set. This technique allows you to train and validate on multiple different subsets of the data, giving a more robust estimate of model performance.\n",
        "\n",
        "### Summary:\n",
        "- **Default Recommendation:** 20% validation set is generally a good balance.\n",
        "- **Smaller Datasets:** Consider reducing to 10-15%.\n",
        "- **Larger Datasets:** 10-20% is usually sufficient.\n",
        "- **Cross-Validation:** A good alternative for smaller datasets or for more robust performance estimation."
      ],
      "metadata": {
        "id": "lqcu5Uqfnrgx"
      }
    },
    {
      "cell_type": "markdown",
      "metadata": {
        "id": "M9zvdYY6evgI"
      },
      "source": [
        "> Exercise: Try to implement a 3 nearest neighbour classifier and compare the accuracy of the 1 nearest neighbour classifier and the 3 nearest neighbour classifier on the test dataset. You can use the KNeighborsClassifier class from the scikit-learn library to implement the K-Nearest Neighbors model. You can set the number of neighbors using the n_neighbors parameter. You can also use the accuracy_score function from the scikit-learn library to calculate the accuracy of the model."
      ]
    },
    {
      "cell_type": "markdown",
      "metadata": {
        "id": "PnYvkAZLQY7h"
      },
      "source": [
        "## Multiple Splits\n",
        "\n",
        "One way to get more accurate estimates for the test accuracy is by using <b>cross-validation</b>. Here, we will try a simple version, where we do multiple train/val splits and take the average of validation accuracies as the test accuracy estimation. Here is a function for doing this. Note that this function will take a long time to execute. You can reduce the number of splits to make it faster."
      ]
    },
    {
      "cell_type": "code",
      "execution_count": null,
      "metadata": {
        "id": "E4nGCUQXBTzo"
      },
      "outputs": [],
      "source": [
        "def AverageAccuracy(alldata, alllabel, splitpercent, iterations, classifier=NN):\n",
        "    \"\"\"\n",
        "    This function takes in the data, labels, split percentage, number of iterations and classifier function\n",
        "    and returns the average accuracy of the classifier\n",
        "\n",
        "    alldata: numpy array of shape (n,d) where n is the number of samples and d is the number of features\n",
        "    alllabel: numpy array of shape (n,) where n is the number of samples\n",
        "    splitpercent: float which is the percentage of data to be used for training\n",
        "    iterations: int which is the number of iterations to run the classifier\n",
        "    classifier: function which is the classifier function to be used\n",
        "\n",
        "    returns: the average accuracy of the classifier\n",
        "    \"\"\"\n",
        "    accuracy = 0\n",
        "    for ii in range(iterations):\n",
        "        traindata, trainlabel, valdata, vallabel = split(\n",
        "            alldata, alllabel, splitpercent\n",
        "        )\n",
        "        valpred = classifier(traindata, trainlabel, valdata)\n",
        "        accuracy += Accuracy(vallabel, valpred)\n",
        "    return accuracy / iterations  # average of all accuracies"
      ]
    },
    {
      "cell_type": "code",
      "execution_count": null,
      "metadata": {
        "colab": {
          "base_uri": "https://localhost:8080/"
        },
        "id": "H3qtNar7Bbik",
        "outputId": "5a5a53ec-beea-4f7f-cefc-79f74cceb1bd"
      },
      "outputs": [
        {
          "output_type": "stream",
          "name": "stdout",
          "text": [
            "Average validation accuracy: 33.58463539517022 %\n",
            "Test accuracy: 34.91795366795367 %\n"
          ]
        }
      ],
      "source": [
        "avg_acc = AverageAccuracy(alltraindata, alltrainlabel, 75 / 100, 10, classifier=NN)\n",
        "print(\"Average validation accuracy:\", avg_acc*100, \"%\")\n",
        "testpred = NN(alltraindata, alltrainlabel, testdata)\n",
        "\n",
        "print(\"Test accuracy:\", Accuracy(testlabel, testpred)*100, \"%\")"
      ]
    },
    {
      "cell_type": "markdown",
      "metadata": {
        "id": "33GIn4x5VH-d"
      },
      "source": [
        "This is a very simple way of doing cross-validation. There are many well-known algorithms for cross-validation, like k-fold cross-validation, leave-one-out etc. This will be covered in detail in a later module. For more information about cross-validation, check <a href=https://en.wikipedia.org/wiki/Cross-validation_(statistics)>Cross-validatioin (Wikipedia)</a>\n",
        "\n",
        "### Questions\n",
        "1. Does averaging the validation accuracy across multiple splits give more consistent results?\n",
        "2. Does it give more accurate estimate of test accuracy?\n",
        "3. What is the effect of the number of iterations on the estimate? Do we get a better estimate with higher iterations?\n",
        "4. Consider the results you got for the previous questions. Can we deal with a very small train dataset or validation dataset by increasing the iterations?\n"
      ]
    },
    {
      "cell_type": "markdown",
      "source": [
        "Answer 1:\n",
        "          Yes, averaging the validation accuracy across multiple splits (such as in cross-validation) tends to give more consistent and reliable results compared to using a single split. Here's why:\n",
        "\n",
        "1. **Reduced Variance**: When you use only a single train/validation split, the result can be highly dependent on how the data was split. This can introduce a lot of variance, especially if the dataset is small or not perfectly representative. By averaging across multiple splits, you smooth out these variations, leading to a more stable and generalizable estimate of your model's performance.\n",
        "\n",
        "2. **Better Representation of the Dataset**: Cross-validation ensures that every data point is used for both training and validation, giving a more comprehensive assessment of model performance. It helps to avoid the scenario where the model performs well on one specific split but poorly on others.\n",
        "\n",
        "3. **Mitigation of Overfitting to Validation Set**: Relying on a single validation set can sometimes lead to overfitting to that specific data subset. Averaging across multiple validation sets helps to mitigate this risk by evaluating the model's performance on different data subsets.\n",
        "\n",
        "In summary, averaging validation accuracy across multiple splits generally provides a more robust estimate of model performance, making it a standard practice in machine learning, especially when the goal is to assess the generalization ability of the model.\n",
        "\n",
        "Answer 2:\n",
        "          Yes, averaging validation accuracy across multiple splits generally gives a more accurate estimate of test accuracy. Here's why:\n",
        "\n",
        "1. **More Comprehensive Evaluation**: By using multiple splits, you ensure that the model is evaluated on different subsets of the data, which makes the performance estimate more representative of how the model might perform on unseen data. This reduces the likelihood of the model being over-optimistic or pessimistic based on a particular train/validation split.\n",
        "\n",
        "2. **Reduction of Bias**: A single validation set might not fully capture the diversity of the dataset, especially if the data is not perfectly homogeneous. Averaging across multiple splits helps to reduce bias in the performance estimate, leading to a more accurate reflection of the model's true ability to generalize.\n",
        "\n",
        "3. **Mitigation of Overfitting to Validation Data**: If you tune your model based on a single validation split, there's a risk of overfitting to that specific subset, leading to a less accurate estimate of test accuracy. Cross-validation reduces this risk by ensuring that your performance metric is not overly dependent on any single subset of the data.\n",
        "\n",
        "4. **Law of Large Numbers**: Statistically, when you average results across multiple experiments (in this case, multiple validation splits), the average tends to converge to the true performance measure, assuming the data is a good representation of the population. This principle helps in providing a more accurate estimate of test accuracy.\n",
        "\n",
        "In summary, cross-validation and averaging the validation accuracies across multiple splits is a widely accepted practice for obtaining a more accurate estimate of test accuracy. It is particularly useful when you have limited data or when you want to ensure that your model generalizes well to new, unseen data.\n",
        "\n",
        "Answer 3:\n",
        "          Yes, increasing the number of iterations generally improves the accuracy of an estimate, particularly in iterative algorithms, simulations, or methods like Monte Carlo simulations.\n",
        "\n",
        "Here’s why:\n",
        "\n",
        "1. **Convergence**: Many algorithms rely on iterative refinement to approach an accurate solution. More iterations often mean the solution has more time to converge to a stable, accurate value.\n",
        "\n",
        "2. **Reduced Variance**: In methods like Monte Carlo simulations, each iteration represents a sample. The more samples you have, the more the estimate tends to converge to the true value, reducing the variability of the estimate.\n",
        "\n",
        "3. **Law of Large Numbers**: As the number of iterations increases, the average result of the samples (in stochastic processes) tends to converge to the expected value, leading to a better estimate.\n",
        "\n",
        "However, there is a trade-off:\n",
        "\n",
        "- **Diminishing Returns**: After a certain point, additional iterations may only yield marginal improvements in accuracy. This is due to the fact that as the estimate gets closer to the true value, the changes with each iteration become smaller.\n",
        "\n",
        "- **Computational Cost**: More iterations mean more computation time and resources. So, while higher iterations generally provide better estimates, there is a practical limit depending on the available computational resources and the required precision.\n",
        "\n",
        "In summary, yes, more iterations typically result in a better estimate, but the benefits diminish over time, and the computational cost increases.\n",
        "\n",
        "Answer 4:\n",
        "          Yes, you can deal with a very small training or validation dataset by increasing the number of iterations, but it's important to understand the implications and limitations of this approach.\n",
        "\n",
        "### 1. **Training with a Small Dataset**:\n",
        "   - **Overfitting Risk**: With a very small training dataset, the model is at high risk of overfitting, where it learns the noise and specific details of the training data rather than generalizable patterns. Increasing iterations (training for more epochs) will likely exacerbate overfitting, as the model has more opportunities to memorize the training data rather than learn to generalize.\n",
        "   - **Data Augmentation**: To mitigate overfitting, data augmentation techniques can be employed to artificially expand the size of the training data. This might include transformations like rotation, flipping, scaling, or adding noise.\n",
        "   - **Regularization**: Techniques like dropout, L2 regularization, or early stopping can also help prevent overfitting when training on a small dataset.\n",
        "\n",
        "### 2. **Validation with a Small Dataset**:\n",
        "   - **Unreliable Performance Metrics**: A small validation dataset can lead to unreliable performance metrics due to high variance. Even a single outlier can significantly affect the model's perceived performance.\n",
        "   - **Cross-Validation**: Instead of relying on a single small validation set, you could use cross-validation. This approach splits the dataset into multiple folds, training and validating the model on different subsets, providing a more robust estimate of model performance.\n",
        "   - **Use of Unseen Data**: It's also advisable to gather more validation data, if possible, to better estimate how the model will perform on truly unseen data.\n",
        "\n",
        "### 3. **Increasing Iterations**:\n",
        "   - **Convergence**: Increasing the number of iterations can help the model converge better when the dataset is small, but the benefits are limited if the data doesn't represent the broader problem space.\n",
        "   - **Learning Rate Adjustment**: When increasing iterations, it may be necessary to adjust the learning rate. A smaller learning rate with more iterations can help the model find a more optimal solution without overshooting.\n",
        "\n",
        "### 4. **Other Considerations**:\n",
        "   - **Transfer Learning**: If your dataset is very small, using a pre-trained model (transfer learning) and fine-tuning it on your data can be highly effective. The pre-trained model already has learned general features from a large dataset, so your small dataset only needs to refine these features.\n",
        "\n",
        "### Conclusion:\n",
        "While increasing iterations can help in some scenarios, it is not a substitute for having sufficient and representative data. The strategies above can help mitigate some of the risks associated with small datasets."
      ],
      "metadata": {
        "id": "MFxSHGNfooR5"
      }
    },
    {
      "cell_type": "markdown",
      "metadata": {
        "id": "z-SBxy1qevgJ"
      },
      "source": [
        "> Exercise: How does the accuracy of the 3 nearest neighbour classifier change with the number of splits? How is it affected by the split size? Compare the results with the 1 nearest neighbour classifier."
      ]
    }
  ],
  "metadata": {
    "colab": {
      "provenance": [],
      "include_colab_link": true
    },
    "kernelspec": {
      "display_name": "Python 3",
      "name": "python3"
    },
    "language_info": {
      "codemirror_mode": {
        "name": "ipython",
        "version": 3
      },
      "file_extension": ".py",
      "mimetype": "text/x-python",
      "name": "python",
      "nbconvert_exporter": "python",
      "pygments_lexer": "ipython3",
      "version": "3.10.10"
    }
  },
  "nbformat": 4,
  "nbformat_minor": 0
}